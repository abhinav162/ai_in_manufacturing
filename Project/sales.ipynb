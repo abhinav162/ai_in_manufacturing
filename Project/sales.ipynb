{
 "cells": [
  {
   "cell_type": "code",
   "execution_count": 6,
   "metadata": {},
   "outputs": [
    {
     "name": "stdout",
     "output_type": "stream",
     "text": [
      "Mean Squared Error: 223345622.59\n",
      "Mean Absolute Error: 14718.64\n",
      "R2 Score: -0.07\n",
      "Predicted sales for next year: 31449.11\n"
     ]
    }
   ],
   "source": [
    "# Import necessary libraries\n",
    "import pandas as pd\n",
    "import numpy as np\n",
    "from sklearn.linear_model import LinearRegression\n",
    "from sklearn.metrics import mean_absolute_error, mean_squared_error, r2_score\n",
    "\n",
    "# Load data from CSV file\n",
    "sales_data = pd.read_csv('sales_data.csv')\n",
    "\n",
    "# Preprocess the data\n",
    "X = sales_data['Year'].values.reshape(-1, 1)\n",
    "y = sales_data['Sales'].values.reshape(-1, 1)\n",
    "\n",
    "# Split data into training and testing sets\n",
    "split_index = int(len(X) * 0.8)\n",
    "X_train, y_train = X[:split_index], y[:split_index]\n",
    "X_test, y_test = X[split_index:], y[split_index:]\n",
    "\n",
    "# Train the model\n",
    "model = LinearRegression()\n",
    "model.fit(X_train, y_train)\n",
    "\n",
    "# Make predictions on the testing set\n",
    "y_pred = model.predict(X_test)\n",
    "\n",
    "# Evaluate the performance of the model\n",
    "mse = mean_squared_error(y_test, y_pred)\n",
    "mae = mean_absolute_error(y_test, y_pred)\n",
    "r2 = r2_score(y_test, y_pred)\n",
    "\n",
    "print(f\"Mean Squared Error: {mse:.2f}\")\n",
    "print(f\"Mean Absolute Error: {mae:.2f}\")\n",
    "print(f\"R2 Score: {r2:.2f}\")\n",
    "\n",
    "# Predict sales for next year\n",
    "next_year_sales = model.predict([[2023]])\n",
    "print(f\"Predicted sales for next year: {next_year_sales[0][0]:.2f}\")"
   ]
  },
  {
   "attachments": {},
   "cell_type": "markdown",
   "metadata": {},
   "source": [
    "## Here is a breakdown of the code:\n",
    "\n",
    "- Import necessary libraries: The code starts by importing pandas and LinearRegression from scikit-learn, two essential libraries for working with data and creating a linear regression model.\n",
    "\n",
    "- Load the data: The sales data is loaded from a CSV file using the pandas read_csv function and stored in a pandas dataframe called sales_data.\n",
    "\n",
    "- Split the data: The data is split into two parts: the features (X) and the target variable (y). In this case, the target variable is the sales column of the sales_data dataframe, and the features are all the other columns except for sales. The drop() method is used to remove the sales column from the features data.\n",
    "\n",
    "- Create a linear regression model and fit the data: A linear regression model is created using LinearRegression() from scikit-learn. The fit() method is then used to fit the model to the data. This calculates the coefficients for the linear equation that describes the relationship between the features and the target variable.\n",
    "\n",
    "- Predict sales for next year: The model is used to predict sales for the next year by calling the predict() method on the model and passing in a list with the year 2023. The predicted sales value is stored in the variable next_year_sales.\n",
    "\n",
    "- Print predicted sales: The predicted sales value is printed to the console using print(). The value is accessed from the next_year_sales variable using indexing."
   ]
  }
 ],
 "metadata": {
  "kernelspec": {
   "display_name": "MainEnv",
   "language": "python",
   "name": "python3"
  },
  "language_info": {
   "codemirror_mode": {
    "name": "ipython",
    "version": 3
   },
   "file_extension": ".py",
   "mimetype": "text/x-python",
   "name": "python",
   "nbconvert_exporter": "python",
   "pygments_lexer": "ipython3",
   "version": "3.10.8"
  },
  "orig_nbformat": 4
 },
 "nbformat": 4,
 "nbformat_minor": 2
}
