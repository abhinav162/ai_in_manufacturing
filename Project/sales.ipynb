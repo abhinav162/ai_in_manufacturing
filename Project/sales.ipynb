{
 "cells": [
  {
   "cell_type": "code",
   "execution_count": null,
   "metadata": {},
   "outputs": [],
   "source": [
    "# Import necessary libraries\n",
    "import pandas as pd\n",
    "from sklearn.linear_model import LinearRegression\n",
    "\n",
    "# Load the data into a pandas dataframe\n",
    "sales_data = pd.read_csv('sales_data.csv')\n",
    "\n",
    "# Split the data into features (X) and target variable 👍\n",
    "X = sales_data.drop(['Sales'], axis=1)\n",
    "y = sales_data['Sales']\n",
    "\n",
    "# Create a linear regression model and fit the data\n",
    "model = LinearRegression()\n",
    "model.fit(X, y)\n",
    "\n",
    "# Predict sales for next year\n",
    "next_year_sales = model.predict([[2023]])\n",
    "\n",
    "print(\"Predicted sales for next year:\", next_year_sales[0])"
   ]
  },
  {
   "attachments": {},
   "cell_type": "markdown",
   "metadata": {},
   "source": [
    "## Here is a breakdown of the code:\n",
    "\n",
    "- Import necessary libraries: The code starts by importing pandas and LinearRegression from scikit-learn, two essential libraries for working with data and creating a linear regression model.\n",
    "\n",
    "- Load the data: The sales data is loaded from a CSV file using the pandas read_csv function and stored in a pandas dataframe called sales_data.\n",
    "\n",
    "- Split the data: The data is split into two parts: the features (X) and the target variable (y). In this case, the target variable is the sales column of the sales_data dataframe, and the features are all the other columns except for sales. The drop() method is used to remove the sales column from the features data.\n",
    "\n",
    "- Create a linear regression model and fit the data: A linear regression model is created using LinearRegression() from scikit-learn. The fit() method is then used to fit the model to the data. This calculates the coefficients for the linear equation that describes the relationship between the features and the target variable.\n",
    "\n",
    "- Predict sales for next year: The model is used to predict sales for the next year by calling the predict() method on the model and passing in a list with the year 2023. The predicted sales value is stored in the variable next_year_sales.\n",
    "\n",
    "- Print predicted sales: The predicted sales value is printed to the console using print(). The value is accessed from the next_year_sales variable using indexing."
   ]
  }
 ],
 "metadata": {
  "kernelspec": {
   "display_name": "MainEnv",
   "language": "python",
   "name": "python3"
  },
  "language_info": {
   "codemirror_mode": {
    "name": "ipython",
    "version": 3
   },
   "file_extension": ".py",
   "mimetype": "text/x-python",
   "name": "python",
   "nbconvert_exporter": "python",
   "pygments_lexer": "ipython3",
   "version": "3.10.8"
  },
  "orig_nbformat": 4
 },
 "nbformat": 4,
 "nbformat_minor": 2
}
